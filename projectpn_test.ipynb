{
 "cells": [
  {
   "cell_type": "code",
   "execution_count": 4,
   "metadata": {},
   "outputs": [],
   "source": [
    "# this_series_list_from_exam=[\"t2-tse-sag\",\"dwi\",\"swi\",\"t1-3d-cor\",\"t2-tse-ax\",\"t2-flair-ax\"]\n",
    "# for oo,now_series in enumerate(this_series_list_from_exam):\n",
    "#     now_isSag=(\"sag\" in now_series.lower())\n",
    "#     print(now_isSag)\n"
   ]
  },
  {
   "cell_type": "code",
   "execution_count": 6,
   "metadata": {},
   "outputs": [
    {
     "name": "stdout",
     "output_type": "stream",
     "text": [
      "MR-Hjarna\n"
     ]
    }
   ],
   "source": [
    "def f_name_X_Ys_back(inin_instr,Xs=0,Ys=\"/\"):\n",
    "    inin_instr=inin_instr.replace(\"/\",\"\\n\")\n",
    "    outout_outstr_lines=inin_instr.splitlines(False)\n",
    "    return outout_outstr_lines[-2]\n",
    "\n",
    "\n",
    "print(f_name_X_Ys_back(\"/config/workspace/slideshoe-MCQ/cases/Neo1/MR-Hjarna/adc-png\",0,\"/\"))"
   ]
  }
 ],
 "metadata": {
  "kernelspec": {
   "display_name": ".venv",
   "language": "python",
   "name": "python3"
  },
  "language_info": {
   "codemirror_mode": {
    "name": "ipython",
    "version": 3
   },
   "file_extension": ".py",
   "mimetype": "text/x-python",
   "name": "python",
   "nbconvert_exporter": "python",
   "pygments_lexer": "ipython3",
   "version": "3.12.3"
  }
 },
 "nbformat": 4,
 "nbformat_minor": 2
}
